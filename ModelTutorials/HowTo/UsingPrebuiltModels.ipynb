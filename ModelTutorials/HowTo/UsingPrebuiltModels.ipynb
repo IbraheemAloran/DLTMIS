{
 "cells": [
  {
   "cell_type": "markdown",
   "metadata": {},
   "source": [
    "# Using Prebuilt Models\n",
    "If you're focused on applying AI and deep learning to your work but not trying to engineer new models for your use, you can always try implemeneting one of the many prebuilt and/or pretrained models from third parties. In this tutorial, we'll look at how to use models provided by a number of sources, including pre-trained models so you can get started with data analysis as quickly as possible.\n",
    "\n",
    "## Important Training Considerations\n",
    "It should be noted that some models can be very complex and have millions of trainable parameters. Training can be VERY resources intensive on your machine and training time will depend greatly on a number of factors such as:\n",
    "- hyperparameter choice (image dimensions, batch size, etc.)\n",
    "- training data size\n",
    "- model complexity\n",
    "- available computational resources (RAM, GPU, CPU, SSD/HDD)\n",
    "\n",
    "You may find that training is very slow on your machine, or may not even work at all. If this is the case, there are several way to resolve them. You can try to use a less complex model or use smaller data (i.e. 1000x1000px vs 256x256px images), adjust hyperparameters, try online computing resources like Google Colab, use a different computer or upgrade your computer."
   ]
  },
  {
   "cell_type": "markdown",
   "metadata": {},
   "source": [
    "## Using Pretrained Models\n",
    "Depending on the application, pretrained models these can prove very useful, assuming you have access to a machine capable of training them in a reasonable amount of time. As mentioned, some of these can be very complex and resource intensive to train. A good indication on the resource intensiveness of a model is to look at the documentation and see how many parameters the model contains in addition to the model size.\n",
    "\n",
    "We will use a Chest X-Ray Classification model to classify a chest x-ray image known to have normal pathology.\n",
    "\n",
    "This model is made to accept images of size 150x150px containing 3 channels (images have a shape of 150, 150, 3). To begin using the this architecture, we begin by selecting the COVIDNet-CXR4-C model and downloading it. Then we can begin writing our code by importing all the required packages.\n",
    "\n",
    "After downloading the saved_model.pb file and the variables folder, put them into another folder called `SavedModel`. Now we can import the necessary packages, load in the model and create a prediction using an image. Note that we have to make sure that the image is the appropriate size for the model which we are using"
   ]
  },
  {
   "cell_type": "code",
   "execution_count": null,
   "metadata": {},
   "outputs": [],
   "source": [
    "import tensorflow as tf\n",
    "import numpy as np\n",
    "import matplotlib.pyplot as plt\n",
    "\n",
    "restored_model = tf.keras.models.load_model(\"CNNexample\")\n",
    "\n",
    "img_path = 'normal.jpeg'\n",
    "img = tf.keras.preprocessing.image.load_img(img_path, target_size=(150, 150))\n",
    "pred = tf.keras.preprocessing.image.img_to_array(img)\n",
    "pred = np.expand_dims(pred, axis=0)\n",
    "pred = pred.astype('float32')/255\n",
    "\n",
    "prediction = restored_model.predict(pred)\n",
    "\n",
    "print(prediction)"
   ]
  },
  {
   "cell_type": "markdown",
   "metadata": {},
   "source": [
    "## Training Prebuilt Models\n",
    "You can also train prebuilt models by loading in the model and training as discribed in the other tutorials. With this method, there is no need to defined the neural network again. This step can be skipped entirely. Once the data has been prepared and processed accordingly, `restored_model.fit()` can be called to initiate training."
   ]
  },
  {
   "cell_type": "markdown",
   "metadata": {},
   "source": [
    "## Saving Models\n",
    "Models can be saved very easily by using `model.save(\"filename.h5\")` or `model.save(\"filename\").` It should be noted that using the .h5 extension will save the file in HDF5 format instead of as a directory name `filename`."
   ]
  },
  {
   "cell_type": "code",
   "execution_count": null,
   "metadata": {},
   "outputs": [],
   "source": [
    "restored_model.save(\"CNNexample.h5\")"
   ]
  }
 ],
 "metadata": {
  "kernelspec": {
   "display_name": "Python 3",
   "language": "python",
   "name": "python3"
  },
  "language_info": {
   "codemirror_mode": {
    "name": "ipython",
    "version": 3
   },
   "file_extension": ".py",
   "mimetype": "text/x-python",
   "name": "python",
   "nbconvert_exporter": "python",
   "pygments_lexer": "ipython3",
   "version": "3.7.9"
  }
 },
 "nbformat": 4,
 "nbformat_minor": 4
}
