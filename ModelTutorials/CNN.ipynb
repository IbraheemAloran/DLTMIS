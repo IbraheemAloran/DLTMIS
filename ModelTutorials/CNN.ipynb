{
 "cells": [
  {
   "cell_type": "markdown",
   "metadata": {},
   "source": [
    "# U-Net for Medical Image Segmentation\n",
    "\n",
    "**Welcome to the CNN tutorial for Chest X-Ray Image Segmentation!**\n",
    "\n",
    "This tutorial is based on the article written by Abhinav Saga for *Towards Data Science*. The original article can be found <a href=\"https://towardsdatascience.com/deep-learning-for-detecting-pneumonia-from-x-ray-images-fc9a3d9fdba8\">here</a>.\n",
    "\n",
    "This tutorial requires data hosted on Kaggle.com (<a href=\"https://www.kaggle.com/paultimothymooney/chest-xray-pneumonia\">source</a>). \n",
    "\n",
    "**You will need to create a verified Kaggle account, download the data and change the source directory in this file.**\n",
    "\n",
    "Let's get started!"
   ]
  },
  {
   "cell_type": "markdown",
   "metadata": {},
   "source": [
    "## Importing Packages and Dependencies\n",
    "To get started, we need to import the required packages which the code will use. The architecture of the neural network will use Keras. \n",
    "\n",
    "Keras is a high level machine learning API which uses TensorFlow as a backend. This allows users to focus on implementation from a more blackbox perspective. TensorFlow is much better suited for more whitebox approaches. TensorFlow uses a structure called tensors which a basically n-dimensional arrays or matricies. We can use NumPy arrays to pass to TensorFlow and Keras."
   ]
  },
  {
   "cell_type": "code",
   "execution_count": 9,
   "metadata": {},
   "outputs": [],
   "source": [
    "import os\n",
    "from pathlib import Path\n",
    "import numpy as np\n",
    "import pandas as pd\n",
    "import random\n",
    "import cv2\n",
    "import matplotlib.pyplot as plt\n",
    "import keras.backend as k\n",
    "import tensorflow as tf\n",
    "\n",
    "from keras.models import Model, Sequential\n",
    "from keras.layers import Input, Dense, Flatten, Dropout, BatchNormalization\n",
    "from keras.layers import Conv2D, SeparableConv2D, MaxPool2D, LeakyReLU, Activation\n",
    "from keras.optimizers import Adam\n",
    "from keras.preprocessing.image import ImageDataGenerator\n",
    "from keras.callbacks import ModelCheckpoint, ReduceLROnPlateau, EarlyStopping\n",
    "import tensorflow as tf\n",
    "\n",
    "seed = 232\n",
    "np.random.seed(seed)\n",
    "tf.random.set_seed(seed)"
   ]
  },
  {
   "cell_type": "markdown",
   "metadata": {},
   "source": [
    "## Importing Images\n",
    "We now need to set an input path from which to load images. **You must change the following line to point to the correct folder on your system.**"
   ]
  },
  {
   "cell_type": "code",
   "execution_count": 30,
   "metadata": {},
   "outputs": [],
   "source": [
    "inPath = \"C:/Datasets/ChestXRay/chest_xray/chest_xray\""
   ]
  },
  {
   "cell_type": "markdown",
   "metadata": {},
   "source": [
    "## Testing the Filepath\n",
    "You can verify that the path has been set correctly by counting the images from the dataset."
   ]
  },
  {
   "cell_type": "markdown",
   "metadata": {},
   "source": [
    "The for loop below simply counts and displays the number of images in each directory. This gives us an idea of how many images we are dealing with in each set. You should confirm that your output is as follows:<br />\n",
    "`Set: /train` <br />\n",
    "`Normal Images: 1342 ` <br />\n",
    "`Pneumonia Images: 3876` <br />\n",
    "<br />\n",
    "`Set: /val` <br />\n",
    "`Normal Images: 9` <br />\n",
    "`Pneumonia Images: 9` <br />\n",
    "<br />\n",
    "`Set: /test` <br />\n",
    "`Normal Images: 234` <br />\n",
    "`Pneumonia Images: 390` <br />"
   ]
  },
  {
   "cell_type": "code",
   "execution_count": 33,
   "metadata": {},
   "outputs": [
    {
     "name": "stdout",
     "output_type": "stream",
     "text": [
      "Set: /train\n",
      "Normal Images: 1342\n",
      "Pneumonia Images: 3876\n",
      "~~~~~~~~\n",
      "Set: /val\n",
      "Normal Images: 9\n",
      "Pneumonia Images: 9\n",
      "~~~~~~~~\n",
      "Set: /test\n",
      "Normal Images: 234\n",
      "Pneumonia Images: 390\n",
      "~~~~~~~~\n"
     ]
    }
   ],
   "source": [
    "for subset in ['/train', '/val', '/test']:\n",
    "    normal = len(os.listdir(inPath + subset + \"/NORMAL\"))\n",
    "    pneumonia = len(os.listdir(inPath + subset + \"/PNEUMONIA\"))\n",
    "    print(\"Set: \" + str(subset) + \"\\nNormal Images: \" + str(normal) + \"\\nPneumonia Images: \" + str(pneumonia) + \"\\n~~~~~~~~\")"
   ]
  },
  {
   "cell_type": "markdown",
   "metadata": {},
   "source": [
    "## Preparing the Data\n",
    "Now that we have confirmed that we have access to the images, we need to process it into sets to that it be passed to the CNN. Abhinav does this by splitting the the images into training, validation and test sets. They also implement a technique called data augmentation. Because deep learning algorithms perform better with more training data, data augmentation is used to increase the size of the dataset used to train the model. This is relatively easy and a dataset size can be quadrupled simply by rotating images 90, 180 and 270 degrees though other methods also exist like flipping pictures. <br />\n",
    "During this next step, a function is defined which augments and processes image data to prepare it to be passed to the model. The data is augmented using a Keras class called ImageDataGenerator which augments imagesets in real-time with the flow_from_directory() method.<br />\n",
    "The function also resizes images and prepares them for the model.\n",
    "<br />\n",
    "<br /> Abhinav uses the following code:"
   ]
  },
  {
   "cell_type": "code",
   "execution_count": 43,
   "metadata": {},
   "outputs": [],
   "source": [
    "def process_data(img_dims, batch_size):\n",
    "    # Data generation objects\n",
    "    train_datagen = ImageDataGenerator(rescale=1./255, zoom_range=0.3, vertical_flip=True)\n",
    "    test_val_datagen = ImageDataGenerator(rescale=1./255)\n",
    "    \n",
    "    input_path = inPath\n",
    "    \n",
    "    # This is fed to the network in the specified batch sizes and image dimensions\n",
    "    train_gen = train_datagen.flow_from_directory(\n",
    "    directory=input_path+'/train', \n",
    "    target_size=(img_dims, img_dims), \n",
    "    batch_size=batch_size, \n",
    "    class_mode='binary', \n",
    "    shuffle=True)\n",
    "\n",
    "    test_gen = test_val_datagen.flow_from_directory(\n",
    "    directory=input_path+'/test', \n",
    "    target_size=(img_dims, img_dims), \n",
    "    batch_size=batch_size, \n",
    "    class_mode='binary', \n",
    "    shuffle=True)\n",
    "    \n",
    "    # I will be making predictions off of the test set in one batch size\n",
    "    # This is useful to be able to get the confusion matrix\n",
    "    test_data = []\n",
    "    test_labels = []\n",
    "\n",
    "    for cond in ['/NORMAL/', '/PNEUMONIA/']:\n",
    "        for img in (os.listdir(input_path + '/test' + cond)):\n",
    "            img = plt.imread(input_path+'/test'+cond+img)\n",
    "            img = cv2.resize(img, (img_dims, img_dims))\n",
    "            img = np.dstack([img, img, img])\n",
    "            img = img.astype('float32') / 255\n",
    "            if cond=='/NORMAL/':\n",
    "                label = 0\n",
    "            elif cond=='/PNEUMONIA/':\n",
    "                label = 1\n",
    "            test_data.append(img)\n",
    "            test_labels.append(label)\n",
    "        \n",
    "    test_data = np.array(test_data)\n",
    "    test_labels = np.array(test_labels)\n",
    "    \n",
    "    return train_gen, test_gen, test_data, test_labels"
   ]
  },
  {
   "cell_type": "markdown",
   "metadata": {},
   "source": [
    "## Hyperparameters\n",
    "Hyperparameters are parameters that the creator of the algorithm must choose and directly affect model training accuracy. <br />\n",
    "The `img_dims` variable represents the size of the image in pixels that the images will be resized to. Having a larger image size will drastically increase training \n",
    "time is set too high. Too small dimensions, however, results in poor training because information which which to learn is lost from the image when resized. <br />\n",
    "The `epochs` variable represents the number of times the model runs through the complete training set. Too many epochs result in long wait times and may actually reduce the accuracy of the\n",
    "learned model. Too little epochs and the model will not learn enough. <br/>\n",
    "Finally, the `batch_size` variable is that controls the number of training samples to work through before a models internal parameters (like weights) are updated. Having too large a batch size will use a lot more resources and increase training time.<br />\n",
    "<br />\n",
    "The `train_gen`, `test_gen`, `test_data` and `test_labels` variables represent the training and test datasets which will be used to train the model. \n",
    "These variables are set below. We will experiment with different hyperparameters toward the end of this tutorial. For now the defaults remain: <br/>\n",
    "`img_dims = 150\n",
    "epochs = 10\n",
    "batch_size = 32`"
   ]
  },
  {
   "cell_type": "code",
   "execution_count": 44,
   "metadata": {},
   "outputs": [
    {
     "name": "stdout",
     "output_type": "stream",
     "text": [
      "Found 5216 images belonging to 2 classes.\n",
      "Found 624 images belonging to 2 classes.\n"
     ]
    }
   ],
   "source": [
    "img_dims = 150\n",
    "epochs = 10\n",
    "batch_size = 32\n",
    "\n",
    "train_gen, test_gen, test_data, test_labels = process_data(img_dims, batch_size)"
   ]
  },
  {
   "cell_type": "markdown",
   "metadata": {},
   "source": [
    "## Defining the CNN Architecture\n",
    "The most important (and fun) step! Keras makes creating neural networks extremely intuitive and easy. In fact, it may seem like all the previous steps are the most difficult to understand initially. <br />\n",
    "To generate this CNN, we must first contruct each layer in the neural network. We'll walk through Abhinav's CNN layer by layer.<br/>\n",
    "But, before we get started, we need to create an input tensor (a matrix) that is the dimensions of the images being used to train the neural network and an added third dimension of 3. This third dimension is due to the three channels used to compose JPEG images (height x width x channel) which are actually three dimensional array data structures!"
   ]
  },
  {
   "cell_type": "code",
   "execution_count": 45,
   "metadata": {},
   "outputs": [],
   "source": [
    "inputs = Input(shape=(img_dims, img_dims, 3))"
   ]
  },
  {
   "cell_type": "markdown",
   "metadata": {},
   "source": [
    "Now we create the first layers in the CNN, which takes `inputs`, the JPEG images, as an input. The convolutional layer scans a kernel across the image and produces another tensor which maps the activation of the kernel across the image. This is the first step in feature extraction. The resulting tensor created from this convolutional layer is then passed to another convolutional layer, and the tensor output by this layer is passed to a maxpooling layer that reduces dimensionality of the data and helps the network to learn and extract features from the image produced the convolution. This completes the first convolutional block."
   ]
  },
  {
   "cell_type": "code",
   "execution_count": 49,
   "metadata": {},
   "outputs": [],
   "source": [
    "# first conv block\n",
    "x = Conv2D(filters=16, kernel_size=(3, 3), activation='relu', padding='same')(inputs)\n",
    "x = Conv2D(filters=16, kernel_size=(3, 3), activation='relu', padding='same')(x)\n",
    "x = MaxPool2D(pool_size=(2, 2))(x)"
   ]
  },
  {
   "cell_type": "code",
   "execution_count": 50,
   "metadata": {},
   "outputs": [],
   "source": [
    "# Second conv block\n",
    "x = SeparableConv2D(filters=32, kernel_size=(3, 3), activation='relu', padding='same')(x)\n",
    "x = SeparableConv2D(filters=32, kernel_size=(3, 3), activation='relu', padding='same')(x)\n",
    "x = BatchNormalization()(x)\n",
    "x = MaxPool2D(pool_size=(2, 2))(x)\n",
    "\n",
    "# Third conv block\n",
    "x = SeparableConv2D(filters=64, kernel_size=(3, 3), activation='relu', padding='same')(x)\n",
    "x = SeparableConv2D(filters=64, kernel_size=(3, 3), activation='relu', padding='same')(x)\n",
    "x = BatchNormalization()(x)\n",
    "x = MaxPool2D(pool_size=(2, 2))(x)\n",
    "\n",
    "# Fourth conv block\n",
    "x = SeparableConv2D(filters=128, kernel_size=(3, 3), activation='relu', padding='same')(x)\n",
    "x = SeparableConv2D(filters=128, kernel_size=(3, 3), activation='relu', padding='same')(x)\n",
    "x = BatchNormalization()(x)\n",
    "x = MaxPool2D(pool_size=(2, 2))(x)\n",
    "x = Dropout(rate=0.2)(x)\n",
    "\n",
    "# Fifth conv block\n",
    "x = SeparableConv2D(filters=256, kernel_size=(3, 3), activation='relu', padding='same')(x)\n",
    "x = SeparableConv2D(filters=256, kernel_size=(3, 3), activation='relu', padding='same')(x)\n",
    "x = BatchNormalization()(x)\n",
    "x = MaxPool2D(pool_size=(2, 2))(x)\n",
    "x = Dropout(rate=0.2)(x)"
   ]
  },
  {
   "cell_type": "markdown",
   "metadata": {},
   "source": [
    "Finally, an FC layer is present which classifies the features extracted by the previous convolutional layers and passes this information to the output layer.\n"
   ]
  },
  {
   "cell_type": "code",
   "execution_count": 51,
   "metadata": {},
   "outputs": [
    {
     "name": "stdout",
     "output_type": "stream",
     "text": [
      "WARNING:tensorflow:Large dropout rate: 0.7 (>0.5). In TensorFlow 2.x, dropout() uses dropout rate instead of keep_prob. Please ensure that this is intended.\n"
     ]
    }
   ],
   "source": [
    "# FC layer\n",
    "x = Flatten()(x)\n",
    "x = Dense(units=512, activation='relu')(x)\n",
    "x = Dropout(rate=0.7)(x)\n",
    "x = Dense(units=128, activation='relu')(x)\n",
    "x = Dropout(rate=0.5)(x)\n",
    "x = Dense(units=64, activation='relu')(x)\n",
    "x = Dropout(rate=0.3)(x)\n",
    "\n",
    "# Output layer\n",
    "output = Dense(units=1, activation='sigmoid')(x)"
   ]
  },
  {
   "cell_type": "markdown",
   "metadata": {},
   "source": [
    "Now, we create and compile the model."
   ]
  },
  {
   "cell_type": "code",
   "execution_count": 52,
   "metadata": {},
   "outputs": [],
   "source": [
    "# Creating model and compiling\n",
    "model = Model(inputs=inputs, outputs=output)\n",
    "model.compile(optimizer='adam', loss='binary_crossentropy', metrics=['accuracy'])\n",
    "\n",
    "# Callbacks\n",
    "checkpoint = ModelCheckpoint(filepath='best_weights.hdf5', save_best_only=True, save_weights_only=True)\n",
    "lr_reduce = ReduceLROnPlateau(monitor='val_loss', factor=0.3, patience=2, verbose=2, mode='max')\n",
    "early_stop = EarlyStopping(monitor='val_loss', min_delta=0.1, patience=1, mode='min')"
   ]
  },
  {
   "cell_type": "markdown",
   "metadata": {},
   "source": [
    "## Model Training\n",
    "Finally, we can train the model! \n",
    "<br/>\n",
    "The model.fit_generator() method trains the model and creates a history to help visualize and track the training process."
   ]
  },
  {
   "cell_type": "code",
   "execution_count": 53,
   "metadata": {},
   "outputs": [
    {
     "name": "stdout",
     "output_type": "stream",
     "text": [
      "Epoch 1/10\n",
      "163/163 [==============================] - 285s 2s/step - loss: 0.3629 - accuracy: 0.8269 - val_loss: 1.5814 - val_accuracy: 0.6234\n",
      "Epoch 2/10\n",
      "163/163 [==============================] - 308s 2s/step - loss: 0.2606 - accuracy: 0.8832 - val_loss: 2.7007 - val_accuracy: 0.6334\n",
      "Epoch 3/10\n",
      "163/163 [==============================] - 299s 2s/step - loss: 0.2525 - accuracy: 0.8953 - val_loss: 0.5621 - val_accuracy: 0.6115\n",
      "Epoch 4/10\n",
      "163/163 [==============================] - 347s 2s/step - loss: 0.2317 - accuracy: 0.9122 - val_loss: 6.8338 - val_accuracy: 0.6334\n",
      "Epoch 5/10\n",
      "163/163 [==============================] - 382s 2s/step - loss: 0.2132 - accuracy: 0.9222 - val_loss: 0.3811 - val_accuracy: 0.7145\n",
      "Epoch 6/10\n",
      "163/163 [==============================] - 365s 2s/step - loss: 0.1989 - accuracy: 0.9201 - val_loss: 0.4473 - val_accuracy: 0.6824\n",
      "\n",
      "Epoch 00006: ReduceLROnPlateau reducing learning rate to 0.0003000000142492354.\n",
      "Epoch 7/10\n",
      "163/163 [==============================] - 301s 2s/step - loss: 0.1766 - accuracy: 0.9344 - val_loss: 0.2710 - val_accuracy: 0.9172\n",
      "Epoch 8/10\n",
      "163/163 [==============================] - 289s 2s/step - loss: 0.1619 - accuracy: 0.9410 - val_loss: 0.5550 - val_accuracy: 0.8345\n",
      "\n",
      "Epoch 00008: ReduceLROnPlateau reducing learning rate to 9.000000427477062e-05.\n",
      "Epoch 9/10\n",
      "163/163 [==============================] - 298s 2s/step - loss: 0.1554 - accuracy: 0.9434 - val_loss: 0.1877 - val_accuracy: 0.9105\n",
      "Epoch 10/10\n",
      "163/163 [==============================] - 271s 2s/step - loss: 0.1440 - accuracy: 0.9471 - val_loss: 0.2691 - val_accuracy: 0.8986\n",
      "\n",
      "Epoch 00010: ReduceLROnPlateau reducing learning rate to 2.700000040931627e-05.\n"
     ]
    }
   ],
   "source": [
    "hist = model.fit_generator(\n",
    "           train_gen, steps_per_epoch=train_gen.samples // batch_size, \n",
    "           epochs=epochs, validation_data=test_gen, \n",
    "           validation_steps=test_gen.samples // batch_size, callbacks=[checkpoint, lr_reduce])"
   ]
  },
  {
   "cell_type": "markdown",
   "metadata": {},
   "source": [
    "Using the history, we can create loss and accuracy plots to visualize model training."
   ]
  },
  {
   "cell_type": "code",
   "execution_count": 55,
   "metadata": {},
   "outputs": [
    {
     "data": {
      "image/png": "[encoded data removed]",
      "text/plain": [
       "<Figure size 720x216 with 2 Axes>"
      ]
     },
     "metadata": {
      "needs_background": "light"
     },
     "output_type": "display_data"
    }
   ],
   "source": [
    "fig, ax = plt.subplots(1, 2, figsize=(10, 3))\n",
    "ax = ax.ravel()\n",
    "\n",
    "for i, met in enumerate(['accuracy', 'loss']):\n",
    "    ax[i].plot(hist.history[met])\n",
    "    ax[i].plot(hist.history['val_' + met])\n",
    "    ax[i].set_title('Model {}'.format(met))\n",
    "    ax[i].set_xlabel('epochs')\n",
    "    ax[i].set_ylabel(met)\n",
    "    ax[i].legend(['train', 'val'])"
   ]
  },
  {
   "cell_type": "markdown",
   "metadata": {},
   "source": [
    "We can also gather more useful data like accuracy and pricision by calculating a confusion matrix and other test metrics. Abhinav uses the following code."
   ]
  },
  {
   "cell_type": "code",
   "execution_count": 57,
   "metadata": {},
   "outputs": [
    {
     "name": "stdout",
     "output_type": "stream",
     "text": [
      "CONFUSION MATRIX ------------------\n",
      "[[198  36]\n",
      " [ 29 361]]\n",
      "\n",
      "TEST METRICS ----------------------\n",
      "Accuracy: 89.58333333333334%\n",
      "Precision: 90.93198992443325%\n",
      "Recall: 92.56410256410257%\n",
      "F1-score: 91.74078780177891\n",
      "\n",
      "TRAIN METRIC ----------------------\n",
      "Train acc: 94.71\n"
     ]
    }
   ],
   "source": [
    "from sklearn.metrics import accuracy_score, confusion_matrix\n",
    "\n",
    "preds = model.predict(test_data)\n",
    "\n",
    "acc = accuracy_score(test_labels, np.round(preds))*100\n",
    "cm = confusion_matrix(test_labels, np.round(preds))\n",
    "tn, fp, fn, tp = cm.ravel()\n",
    "\n",
    "print('CONFUSION MATRIX ------------------')\n",
    "print(cm)\n",
    "\n",
    "print('\\nTEST METRICS ----------------------')\n",
    "precision = tp/(tp+fp)*100\n",
    "recall = tp/(tp+fn)*100\n",
    "print('Accuracy: {}%'.format(acc))\n",
    "print('Precision: {}%'.format(precision))\n",
    "print('Recall: {}%'.format(recall))\n",
    "print('F1-score: {}'.format(2*precision*recall/(precision+recall)))\n",
    "\n",
    "print('\\nTRAIN METRIC ----------------------')\n",
    "print('Train acc: {}'.format(np.round((hist.history['accuracy'][-1])*100, 2)))"
   ]
  },
  {
   "cell_type": "markdown",
   "metadata": {},
   "source": [
    "## Experiment with Hyperparameters\n",
    "Now you can edit the hyperparametes above and re-run the proceeding steps again to observe any changes. <br/>What changes increase training time?<br/> What changes increase accuracy?<br/> Can you outperform your initial result by altering these parameters?"
   ]
  },
  {
   "cell_type": "code",
   "execution_count": null,
   "metadata": {},
   "outputs": [],
   "source": []
  }
 ],
 "metadata": {
  "kernelspec": {
   "display_name": "Python 3",
   "language": "python",
   "name": "python3"
  },
  "language_info": {
   "codemirror_mode": {
    "name": "ipython",
    "version": 3
   },
   "file_extension": ".py",
   "mimetype": "text/x-python",
   "name": "python",
   "nbconvert_exporter": "python",
   "pygments_lexer": "ipython3",
   "version": "3.7.9"
  }
 },
 "nbformat": 4,
 "nbformat_minor": 4
}
